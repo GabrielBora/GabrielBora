{
  "nbformat": 4,
  "nbformat_minor": 0,
  "metadata": {
    "colab": {
      "provenance": [],
      "authorship_tag": "ABX9TyNSoPpblhG0y14gsTz6C466",
      "include_colab_link": true
    },
    "kernelspec": {
      "name": "python3",
      "display_name": "Python 3"
    },
    "language_info": {
      "name": "python"
    }
  },
  "cells": [
    {
      "cell_type": "markdown",
      "metadata": {
        "id": "view-in-github",
        "colab_type": "text"
      },
      "source": [
        "<a href=\"https://colab.research.google.com/github/GabrielBora/GabrielBora/blob/main/Unicorns%20sep%202022.ipynb\" target=\"_parent\"><img src=\"https://colab.research.google.com/assets/colab-badge.svg\" alt=\"Open In Colab\"/></a>"
      ]
    },
    {
      "cell_type": "code",
      "execution_count": 19,
      "metadata": {
        "id": "HY74ovbh2sV_"
      },
      "outputs": [],
      "source": [
        "import pandas as pd\n",
        "import numpy as np\n",
        "import matplotlib.pyplot as plt\n",
        "import seaborn as sns\n",
        "\n",
        "import warnings\n",
        "warnings.filterwarnings('ignore')"
      ]
    },
    {
      "cell_type": "code",
      "source": [
        "Data_Base = pd.read_csv('unicorns till sep 2022.csv')\n",
        "Data_Base.shape\n",
        "\n",
        "#Import data base + lines/columns"
      ],
      "metadata": {
        "colab": {
          "base_uri": "https://localhost:8080/"
        },
        "id": "eztUaAIn2_Ru",
        "outputId": "11793faf-01a8-4537-86a9-9cc85c0fa978"
      },
      "execution_count": 4,
      "outputs": [
        {
          "output_type": "execute_result",
          "data": {
            "text/plain": [
              "(1186, 7)"
            ]
          },
          "metadata": {},
          "execution_count": 4
        }
      ]
    },
    {
      "cell_type": "code",
      "source": [
        "Data_Base.rename( columns={\n",
        "    'Valuation($B)' : 'Valuation ($)'\n",
        "}, inplace=True )"
      ],
      "metadata": {
        "id": "ieVj1ByxEu7I"
      },
      "execution_count": 78,
      "outputs": []
    },
    {
      "cell_type": "code",
      "source": [
        "Data_Base.head()"
      ],
      "metadata": {
        "colab": {
          "base_uri": "https://localhost:8080/",
          "height": 354
        },
        "id": "_yzw86Dg3V8Y",
        "outputId": "ca47ccd4-71e7-4959-8f91-b79684b6dbb9"
      },
      "execution_count": 77,
      "outputs": [
        {
          "output_type": "execute_result",
          "data": {
            "text/plain": [
              "     Company Valuation Date Joined        Country          City   \\\n",
              "0  ByteDance      $140  2017-04-07          China        Beijing   \n",
              "1     SpaceX      $127  2012-12-01  United States      Hawthorne   \n",
              "2      SHEIN      $100  2018-07-03          China       Shenzhen   \n",
              "3     Stripe       $95  2014-01-23  United States  San Francisco   \n",
              "4      Canva       $40  2018-01-08      Australia    Surry Hills   \n",
              "\n",
              "                          Industry  \\\n",
              "0          Artificial intelligence   \n",
              "1                            Other   \n",
              "2  E-commerce & direct-to-consumer   \n",
              "3                          Fintech   \n",
              "4     Internet software & services   \n",
              "\n",
              "                                           Investors  Month  Year  \n",
              "0  Sequoia Capital China, SIG Asia Investments, S...      4  2017  \n",
              "1  Founders Fund, Draper Fisher Jurvetson, Rothen...     12  2012  \n",
              "2  Tiger Global Management, Sequoia Capital China...      7  2018  \n",
              "3        Khosla Ventures, LowercaseCapital, capitalG      1  2014  \n",
              "4  Sequoia Capital China, Blackbird Ventures, Mat...      1  2018  "
            ],
            "text/html": [
              "\n",
              "  <div id=\"df-413374d6-b5bf-4cc2-b68c-2541104d650f\">\n",
              "    <div class=\"colab-df-container\">\n",
              "      <div>\n",
              "<style scoped>\n",
              "    .dataframe tbody tr th:only-of-type {\n",
              "        vertical-align: middle;\n",
              "    }\n",
              "\n",
              "    .dataframe tbody tr th {\n",
              "        vertical-align: top;\n",
              "    }\n",
              "\n",
              "    .dataframe thead th {\n",
              "        text-align: right;\n",
              "    }\n",
              "</style>\n",
              "<table border=\"1\" class=\"dataframe\">\n",
              "  <thead>\n",
              "    <tr style=\"text-align: right;\">\n",
              "      <th></th>\n",
              "      <th>Company</th>\n",
              "      <th>Valuation</th>\n",
              "      <th>Date Joined</th>\n",
              "      <th>Country</th>\n",
              "      <th>City</th>\n",
              "      <th>Industry</th>\n",
              "      <th>Investors</th>\n",
              "      <th>Month</th>\n",
              "      <th>Year</th>\n",
              "    </tr>\n",
              "  </thead>\n",
              "  <tbody>\n",
              "    <tr>\n",
              "      <th>0</th>\n",
              "      <td>ByteDance</td>\n",
              "      <td>$140</td>\n",
              "      <td>2017-04-07</td>\n",
              "      <td>China</td>\n",
              "      <td>Beijing</td>\n",
              "      <td>Artificial intelligence</td>\n",
              "      <td>Sequoia Capital China, SIG Asia Investments, S...</td>\n",
              "      <td>4</td>\n",
              "      <td>2017</td>\n",
              "    </tr>\n",
              "    <tr>\n",
              "      <th>1</th>\n",
              "      <td>SpaceX</td>\n",
              "      <td>$127</td>\n",
              "      <td>2012-12-01</td>\n",
              "      <td>United States</td>\n",
              "      <td>Hawthorne</td>\n",
              "      <td>Other</td>\n",
              "      <td>Founders Fund, Draper Fisher Jurvetson, Rothen...</td>\n",
              "      <td>12</td>\n",
              "      <td>2012</td>\n",
              "    </tr>\n",
              "    <tr>\n",
              "      <th>2</th>\n",
              "      <td>SHEIN</td>\n",
              "      <td>$100</td>\n",
              "      <td>2018-07-03</td>\n",
              "      <td>China</td>\n",
              "      <td>Shenzhen</td>\n",
              "      <td>E-commerce &amp; direct-to-consumer</td>\n",
              "      <td>Tiger Global Management, Sequoia Capital China...</td>\n",
              "      <td>7</td>\n",
              "      <td>2018</td>\n",
              "    </tr>\n",
              "    <tr>\n",
              "      <th>3</th>\n",
              "      <td>Stripe</td>\n",
              "      <td>$95</td>\n",
              "      <td>2014-01-23</td>\n",
              "      <td>United States</td>\n",
              "      <td>San Francisco</td>\n",
              "      <td>Fintech</td>\n",
              "      <td>Khosla Ventures, LowercaseCapital, capitalG</td>\n",
              "      <td>1</td>\n",
              "      <td>2014</td>\n",
              "    </tr>\n",
              "    <tr>\n",
              "      <th>4</th>\n",
              "      <td>Canva</td>\n",
              "      <td>$40</td>\n",
              "      <td>2018-01-08</td>\n",
              "      <td>Australia</td>\n",
              "      <td>Surry Hills</td>\n",
              "      <td>Internet software &amp; services</td>\n",
              "      <td>Sequoia Capital China, Blackbird Ventures, Mat...</td>\n",
              "      <td>1</td>\n",
              "      <td>2018</td>\n",
              "    </tr>\n",
              "  </tbody>\n",
              "</table>\n",
              "</div>\n",
              "      <button class=\"colab-df-convert\" onclick=\"convertToInteractive('df-413374d6-b5bf-4cc2-b68c-2541104d650f')\"\n",
              "              title=\"Convert this dataframe to an interactive table.\"\n",
              "              style=\"display:none;\">\n",
              "        \n",
              "  <svg xmlns=\"http://www.w3.org/2000/svg\" height=\"24px\"viewBox=\"0 0 24 24\"\n",
              "       width=\"24px\">\n",
              "    <path d=\"M0 0h24v24H0V0z\" fill=\"none\"/>\n",
              "    <path d=\"M18.56 5.44l.94 2.06.94-2.06 2.06-.94-2.06-.94-.94-2.06-.94 2.06-2.06.94zm-11 1L8.5 8.5l.94-2.06 2.06-.94-2.06-.94L8.5 2.5l-.94 2.06-2.06.94zm10 10l.94 2.06.94-2.06 2.06-.94-2.06-.94-.94-2.06-.94 2.06-2.06.94z\"/><path d=\"M17.41 7.96l-1.37-1.37c-.4-.4-.92-.59-1.43-.59-.52 0-1.04.2-1.43.59L10.3 9.45l-7.72 7.72c-.78.78-.78 2.05 0 2.83L4 21.41c.39.39.9.59 1.41.59.51 0 1.02-.2 1.41-.59l7.78-7.78 2.81-2.81c.8-.78.8-2.07 0-2.86zM5.41 20L4 18.59l7.72-7.72 1.47 1.35L5.41 20z\"/>\n",
              "  </svg>\n",
              "      </button>\n",
              "      \n",
              "  <style>\n",
              "    .colab-df-container {\n",
              "      display:flex;\n",
              "      flex-wrap:wrap;\n",
              "      gap: 12px;\n",
              "    }\n",
              "\n",
              "    .colab-df-convert {\n",
              "      background-color: #E8F0FE;\n",
              "      border: none;\n",
              "      border-radius: 50%;\n",
              "      cursor: pointer;\n",
              "      display: none;\n",
              "      fill: #1967D2;\n",
              "      height: 32px;\n",
              "      padding: 0 0 0 0;\n",
              "      width: 32px;\n",
              "    }\n",
              "\n",
              "    .colab-df-convert:hover {\n",
              "      background-color: #E2EBFA;\n",
              "      box-shadow: 0px 1px 2px rgba(60, 64, 67, 0.3), 0px 1px 3px 1px rgba(60, 64, 67, 0.15);\n",
              "      fill: #174EA6;\n",
              "    }\n",
              "\n",
              "    [theme=dark] .colab-df-convert {\n",
              "      background-color: #3B4455;\n",
              "      fill: #D2E3FC;\n",
              "    }\n",
              "\n",
              "    [theme=dark] .colab-df-convert:hover {\n",
              "      background-color: #434B5C;\n",
              "      box-shadow: 0px 1px 3px 1px rgba(0, 0, 0, 0.15);\n",
              "      filter: drop-shadow(0px 1px 2px rgba(0, 0, 0, 0.3));\n",
              "      fill: #FFFFFF;\n",
              "    }\n",
              "  </style>\n",
              "\n",
              "      <script>\n",
              "        const buttonEl =\n",
              "          document.querySelector('#df-413374d6-b5bf-4cc2-b68c-2541104d650f button.colab-df-convert');\n",
              "        buttonEl.style.display =\n",
              "          google.colab.kernel.accessAllowed ? 'block' : 'none';\n",
              "\n",
              "        async function convertToInteractive(key) {\n",
              "          const element = document.querySelector('#df-413374d6-b5bf-4cc2-b68c-2541104d650f');\n",
              "          const dataTable =\n",
              "            await google.colab.kernel.invokeFunction('convertToInteractive',\n",
              "                                                     [key], {});\n",
              "          if (!dataTable) return;\n",
              "\n",
              "          const docLinkHtml = 'Like what you see? Visit the ' +\n",
              "            '<a target=\"_blank\" href=https://colab.research.google.com/notebooks/data_table.ipynb>data table notebook</a>'\n",
              "            + ' to learn more about interactive tables.';\n",
              "          element.innerHTML = '';\n",
              "          dataTable['output_type'] = 'display_data';\n",
              "          await google.colab.output.renderOutput(dataTable, element);\n",
              "          const docLink = document.createElement('div');\n",
              "          docLink.innerHTML = docLinkHtml;\n",
              "          element.appendChild(docLink);\n",
              "        }\n",
              "      </script>\n",
              "    </div>\n",
              "  </div>\n",
              "  "
            ]
          },
          "metadata": {},
          "execution_count": 77
        }
      ]
    },
    {
      "cell_type": "code",
      "source": [
        "Data_Base.columns"
      ],
      "metadata": {
        "colab": {
          "base_uri": "https://localhost:8080/"
        },
        "id": "E7KzegIC3nuK",
        "outputId": "df409b6d-a6c1-4aea-cff2-0ccf026fadb2"
      },
      "execution_count": 79,
      "outputs": [
        {
          "output_type": "execute_result",
          "data": {
            "text/plain": [
              "Index(['Company', 'Valuation', 'Date Joined', 'Country', 'City ', 'Industry',\n",
              "       'Investors', 'Month', 'Year'],\n",
              "      dtype='object')"
            ]
          },
          "metadata": {},
          "execution_count": 79
        }
      ]
    },
    {
      "cell_type": "code",
      "source": [
        "Data_Base.info()"
      ],
      "metadata": {
        "colab": {
          "base_uri": "https://localhost:8080/"
        },
        "id": "tAq2WkyU4bAX",
        "outputId": "e5798790-3652-4967-bddd-a84572224259"
      },
      "execution_count": 80,
      "outputs": [
        {
          "output_type": "stream",
          "name": "stdout",
          "text": [
            "<class 'pandas.core.frame.DataFrame'>\n",
            "RangeIndex: 1186 entries, 0 to 1185\n",
            "Data columns (total 9 columns):\n",
            " #   Column       Non-Null Count  Dtype         \n",
            "---  ------       --------------  -----         \n",
            " 0   Company      1186 non-null   object        \n",
            " 1   Valuation    1186 non-null   object        \n",
            " 2   Date Joined  1186 non-null   datetime64[ns]\n",
            " 3   Country      1186 non-null   object        \n",
            " 4   City         1186 non-null   object        \n",
            " 5   Industry     1186 non-null   object        \n",
            " 6   Investors    1168 non-null   object        \n",
            " 7   Month        1186 non-null   int64         \n",
            " 8   Year         1186 non-null   int64         \n",
            "dtypes: datetime64[ns](1), int64(2), object(6)\n",
            "memory usage: 83.5+ KB\n"
          ]
        }
      ]
    },
    {
      "cell_type": "code",
      "source": [
        "#checking null camps to see if it will interfere in the analysy\n",
        "Data_Base.isnull().sum()"
      ],
      "metadata": {
        "colab": {
          "base_uri": "https://localhost:8080/"
        },
        "id": "pZKbi1CZ4gY3",
        "outputId": "e9142971-471a-4d7b-9703-7a6881805923"
      },
      "execution_count": 20,
      "outputs": [
        {
          "output_type": "execute_result",
          "data": {
            "text/plain": [
              "Company         0\n",
              "Valuation       0\n",
              "Date Joined     0\n",
              "Country         0\n",
              "City            0\n",
              "Industry        0\n",
              "Investors      18\n",
              "dtype: int64"
            ]
          },
          "metadata": {},
          "execution_count": 20
        }
      ]
    },
    {
      "cell_type": "code",
      "source": [
        "plt.figure(figsize=(15,6))\n",
        "plt.title ('Null Camps in Data Base')\n",
        "sns.heatmap( Data_Base.isnull(), cbar=False );\n",
        "\n",
        "#Only few lines in the investidors column, no problem at all."
      ],
      "metadata": {
        "colab": {
          "base_uri": "https://localhost:8080/",
          "height": 390
        },
        "id": "ZYbzakzm48YI",
        "outputId": "2612dad4-9030-4634-e58f-91bd25585fa9"
      },
      "execution_count": 22,
      "outputs": [
        {
          "output_type": "display_data",
          "data": {
            "text/plain": [
              "<Figure size 1080x432 with 1 Axes>"
            ],
            "image/png": "[encoded data removed]"
          },
          "metadata": {
            "needs_background": "light"
          }
        }
      ]
    },
    {
      "cell_type": "code",
      "source": [
        "Data_Base.nunique()\n",
        "#Unique infos"
      ],
      "metadata": {
        "colab": {
          "base_uri": "https://localhost:8080/"
        },
        "id": "bfvP-pAf6Geo",
        "outputId": "ff91a39c-0010-4247-c513-69eac9ef7ec3"
      },
      "execution_count": 23,
      "outputs": [
        {
          "output_type": "execute_result",
          "data": {
            "text/plain": [
              "Company        1183\n",
              "Valuation       222\n",
              "Date Joined     695\n",
              "Country          48\n",
              "City            286\n",
              "Industry         34\n",
              "Investors      1152\n",
              "dtype: int64"
            ]
          },
          "metadata": {},
          "execution_count": 23
        }
      ]
    },
    {
      "cell_type": "code",
      "source": [
        "Data_Base['Industry'].unique()"
      ],
      "metadata": {
        "colab": {
          "base_uri": "https://localhost:8080/"
        },
        "id": "ZhCFL10v6Sbo",
        "outputId": "2bb21a3d-0c61-4a84-9e07-ffec096445d1"
      },
      "execution_count": 24,
      "outputs": [
        {
          "output_type": "execute_result",
          "data": {
            "text/plain": [
              "array(['Artificial intelligence', 'Other',\n",
              "       'E-commerce & direct-to-consumer', 'Fintech',\n",
              "       'Internet software & services',\n",
              "       'Supply chain, logistics, & delivery',\n",
              "       'Data management & analytics',\n",
              "       'Sequoia Capital, Thoma Bravo, Softbank', 'Edtech', 'Hardware',\n",
              "       'Consumer & retail', 'Health', 'Auto & transportation',\n",
              "       'Cybersecurity', 'Mobile & telecommunications', 'Travel',\n",
              "       'Kuang-Chi',\n",
              "       'Tiger Global Management, Tiger Brokers, DCM Ventures',\n",
              "       'Jungle Ventures, Accel, Venture Highway',\n",
              "       'Artificial Intelligence', 'GIC. Apis Partners, Insight Partners',\n",
              "       'Vision Plus Capital, GSR Ventures, ZhenFund',\n",
              "       'Hopu Investment Management, Boyu Capital, DC Thomson Ventures',\n",
              "       'Internet', '500 Global, Rakuten Ventures, Golden Gate Ventures',\n",
              "       'Sequoia Capital China, ING, Alibaba Entrepreneurs Fund',\n",
              "       'Sequoia Capital China, Shunwei Capital Partners, Qualgro',\n",
              "       'Dragonfly Captial, Qiming Venture Partners, DST Global',\n",
              "       'SingTel Innov8, Alpha JWC Ventures, Golden Gate Ventures',\n",
              "       'Mundi Ventures, Doqling Capital Partners, Activant Capital',\n",
              "       'Vertex Ventures SE Asia, Global Founders Capital, Visa Ventures',\n",
              "       'Andreessen Horowitz, DST Global, IDG Capital',\n",
              "       \"B Capital Group, Monk's Hill Ventures, Dynamic Parcel Distribution\",\n",
              "       'Temasek, Guggenheim Investments, Qatar Investment Authority'],\n",
              "      dtype=object)"
            ]
          },
          "metadata": {},
          "execution_count": 24
        }
      ]
    },
    {
      "cell_type": "code",
      "source": [
        "Data_Base['Industry'].value_counts()\n",
        "#Rank"
      ],
      "metadata": {
        "colab": {
          "base_uri": "https://localhost:8080/"
        },
        "id": "A2bKSUOZ6dC4",
        "outputId": "08a08d35-d282-4663-f1c7-f32522916630"
      },
      "execution_count": 25,
      "outputs": [
        {
          "output_type": "execute_result",
          "data": {
            "text/plain": [
              "Fintech                                                               239\n",
              "Internet software & services                                          224\n",
              "E-commerce & direct-to-consumer                                       103\n",
              "Health                                                                 94\n",
              "Artificial intelligence                                                74\n",
              "Supply chain, logistics, & delivery                                    65\n",
              "Other                                                                  65\n",
              "Cybersecurity                                                          58\n",
              "Data management & analytics                                            45\n",
              "Auto & transportation                                                  40\n",
              "Hardware                                                               38\n",
              "Mobile & telecommunications                                            37\n",
              "Edtech                                                                 32\n",
              "Consumer & retail                                                      28\n",
              "Travel                                                                 14\n",
              "Artificial Intelligence                                                11\n",
              "Internet                                                                2\n",
              "Sequoia Capital China, ING, Alibaba Entrepreneurs Fund                  1\n",
              "Andreessen Horowitz, DST Global, IDG Capital                            1\n",
              "B Capital Group, Monk's Hill Ventures, Dynamic Parcel Distribution      1\n",
              "Vertex Ventures SE Asia, Global Founders Capital, Visa Ventures         1\n",
              "Mundi Ventures, Doqling Capital Partners, Activant Capital              1\n",
              "SingTel Innov8, Alpha JWC Ventures, Golden Gate Ventures                1\n",
              "Dragonfly Captial, Qiming Venture Partners, DST Global                  1\n",
              "Sequoia Capital China, Shunwei Capital Partners, Qualgro                1\n",
              "Tiger Global Management, Tiger Brokers, DCM Ventures                    1\n",
              "500 Global, Rakuten Ventures, Golden Gate Ventures                      1\n",
              "Hopu Investment Management, Boyu Capital, DC Thomson Ventures           1\n",
              "Vision Plus Capital, GSR Ventures, ZhenFund                             1\n",
              "GIC. Apis Partners, Insight Partners                                    1\n",
              "Jungle Ventures, Accel, Venture Highway                                 1\n",
              "Kuang-Chi                                                               1\n",
              "Sequoia Capital, Thoma Bravo, Softbank                                  1\n",
              "Temasek, Guggenheim Investments, Qatar Investment Authority             1\n",
              "Name: Industry, dtype: int64"
            ]
          },
          "metadata": {},
          "execution_count": 25
        }
      ]
    },
    {
      "cell_type": "code",
      "source": [
        "Data_Base['Industry'].value_counts(normalize=True)*100\n",
        "\n",
        "#Rank in %"
      ],
      "metadata": {
        "colab": {
          "base_uri": "https://localhost:8080/"
        },
        "id": "cwU9ITMC6m2n",
        "outputId": "e7bc6bf0-8d16-4123-a355-85b7f4d27ebc"
      },
      "execution_count": 26,
      "outputs": [
        {
          "output_type": "execute_result",
          "data": {
            "text/plain": [
              "Fintech                                                               20.151771\n",
              "Internet software & services                                          18.887015\n",
              "E-commerce & direct-to-consumer                                        8.684654\n",
              "Health                                                                 7.925801\n",
              "Artificial intelligence                                                6.239460\n",
              "Supply chain, logistics, & delivery                                    5.480607\n",
              "Other                                                                  5.480607\n",
              "Cybersecurity                                                          4.890388\n",
              "Data management & analytics                                            3.794266\n",
              "Auto & transportation                                                  3.372681\n",
              "Hardware                                                               3.204047\n",
              "Mobile & telecommunications                                            3.119730\n",
              "Edtech                                                                 2.698145\n",
              "Consumer & retail                                                      2.360877\n",
              "Travel                                                                 1.180438\n",
              "Artificial Intelligence                                                0.927487\n",
              "Internet                                                               0.168634\n",
              "Sequoia Capital China, ING, Alibaba Entrepreneurs Fund                 0.084317\n",
              "Andreessen Horowitz, DST Global, IDG Capital                           0.084317\n",
              "B Capital Group, Monk's Hill Ventures, Dynamic Parcel Distribution     0.084317\n",
              "Vertex Ventures SE Asia, Global Founders Capital, Visa Ventures        0.084317\n",
              "Mundi Ventures, Doqling Capital Partners, Activant Capital             0.084317\n",
              "SingTel Innov8, Alpha JWC Ventures, Golden Gate Ventures               0.084317\n",
              "Dragonfly Captial, Qiming Venture Partners, DST Global                 0.084317\n",
              "Sequoia Capital China, Shunwei Capital Partners, Qualgro               0.084317\n",
              "Tiger Global Management, Tiger Brokers, DCM Ventures                   0.084317\n",
              "500 Global, Rakuten Ventures, Golden Gate Ventures                     0.084317\n",
              "Hopu Investment Management, Boyu Capital, DC Thomson Ventures          0.084317\n",
              "Vision Plus Capital, GSR Ventures, ZhenFund                            0.084317\n",
              "GIC. Apis Partners, Insight Partners                                   0.084317\n",
              "Jungle Ventures, Accel, Venture Highway                                0.084317\n",
              "Kuang-Chi                                                              0.084317\n",
              "Sequoia Capital, Thoma Bravo, Softbank                                 0.084317\n",
              "Temasek, Guggenheim Investments, Qatar Investment Authority            0.084317\n",
              "Name: Industry, dtype: float64"
            ]
          },
          "metadata": {},
          "execution_count": 26
        }
      ]
    },
    {
      "cell_type": "code",
      "source": [
        "plt.figure(figsize=(15,6))\n",
        "plt.title('Industries')\n",
        "plt.bar(Data_Base['Industry'].value_counts().index, Data_Base['Industry'].value_counts())\n",
        "plt.xticks(rotation=45, ha='right');\n",
        "\n"
      ],
      "metadata": {
        "colab": {
          "base_uri": "https://localhost:8080/",
          "height": 627
        },
        "id": "Zs8ZbSev6279",
        "outputId": "700a7060-d3ab-4c39-e2a7-0394b726e9b2"
      },
      "execution_count": 40,
      "outputs": [
        {
          "output_type": "display_data",
          "data": {
            "text/plain": [
              "<Figure size 1080x432 with 1 Axes>"
            ],
            "image/png": "[encoded data removed]"
          },
          "metadata": {
            "needs_background": "light"
          }
        }
      ]
    },
    {
      "cell_type": "code",
      "source": [
        "Analy = round( Data_Base['Country'].value_counts( normalize=True ) * 100, 1 )"
      ],
      "metadata": {
        "id": "6tk7gCgE7yfy"
      },
      "execution_count": 42,
      "outputs": []
    },
    {
      "cell_type": "code",
      "source": [
        "plt.figure( figsize=(15,6) )\n",
        "plt.title('Countries - Top 7')\n",
        "plt.pie(\n",
        "    Analy.head(7),\n",
        "    labels = Analy.index[0:7],\n",
        "    shadow=True,\n",
        "    startangle=90,\n",
        "    autopct='%1.1f%%'\n",
        ");\n",
        "# I made it top 7 bc if I do not we will not can read the lot of names stacked // I want to find another graphic form in matplotlib that matchs better than this one to show countrys"
      ],
      "metadata": {
        "colab": {
          "base_uri": "https://localhost:8080/",
          "height": 373
        },
        "id": "su8sklZP85ah",
        "outputId": "48cc576a-40a6-4e81-91d2-668250f349dc"
      },
      "execution_count": 43,
      "outputs": [
        {
          "output_type": "display_data",
          "data": {
            "text/plain": [
              "<Figure size 1080x432 with 1 Axes>"
            ],
            "image/png": "[encoded data removed]"
          },
          "metadata": {}
        }
      ]
    },
    {
      "cell_type": "code",
      "source": [
        "Data_Base['Date Joined'] = pd.to_datetime( Data_Base['Date Joined'])\n",
        "Data_Base['Date Joined'].head()"
      ],
      "metadata": {
        "colab": {
          "base_uri": "https://localhost:8080/"
        },
        "id": "sjRFhh6M-No2",
        "outputId": "20965d30-8a1c-4f54-e44f-fc28b6f74c12"
      },
      "execution_count": 37,
      "outputs": [
        {
          "output_type": "execute_result",
          "data": {
            "text/plain": [
              "0   2017-04-07\n",
              "1   2012-12-01\n",
              "2   2018-07-03\n",
              "3   2014-01-23\n",
              "4   2018-01-08\n",
              "Name: Date Joined, dtype: datetime64[ns]"
            ]
          },
          "metadata": {},
          "execution_count": 37
        }
      ]
    },
    {
      "cell_type": "code",
      "source": [
        "Data_Base['Month'] = pd.DatetimeIndex( Data_Base['Date Joined']).month\n",
        "Data_Base['Year'] = pd.DatetimeIndex( Data_Base['Date Joined']).year\n",
        "Data_Base.head()\n",
        "\n",
        "#Increasing month and year "
      ],
      "metadata": {
        "colab": {
          "base_uri": "https://localhost:8080/",
          "height": 354
        },
        "id": "KjL5n60TAEbZ",
        "outputId": "33b49f2c-728f-4ab0-95f6-857ed443505c"
      },
      "execution_count": 39,
      "outputs": [
        {
          "output_type": "execute_result",
          "data": {
            "text/plain": [
              "     Company Valuation Date Joined        Country          City   \\\n",
              "0  ByteDance      $140  2017-04-07          China        Beijing   \n",
              "1     SpaceX      $127  2012-12-01  United States      Hawthorne   \n",
              "2      SHEIN      $100  2018-07-03          China       Shenzhen   \n",
              "3     Stripe       $95  2014-01-23  United States  San Francisco   \n",
              "4      Canva       $40  2018-01-08      Australia    Surry Hills   \n",
              "\n",
              "                          Industry  \\\n",
              "0          Artificial intelligence   \n",
              "1                            Other   \n",
              "2  E-commerce & direct-to-consumer   \n",
              "3                          Fintech   \n",
              "4     Internet software & services   \n",
              "\n",
              "                                           Investors  Month  Year  \n",
              "0  Sequoia Capital China, SIG Asia Investments, S...      4  2017  \n",
              "1  Founders Fund, Draper Fisher Jurvetson, Rothen...     12  2012  \n",
              "2  Tiger Global Management, Sequoia Capital China...      7  2018  \n",
              "3        Khosla Ventures, LowercaseCapital, capitalG      1  2014  \n",
              "4  Sequoia Capital China, Blackbird Ventures, Mat...      1  2018  "
            ],
            "text/html": [
              "\n",
              "  <div id=\"df-2342bb54-eac3-454e-a137-a5604bb85a11\">\n",
              "    <div class=\"colab-df-container\">\n",
              "      <div>\n",
              "<style scoped>\n",
              "    .dataframe tbody tr th:only-of-type {\n",
              "        vertical-align: middle;\n",
              "    }\n",
              "\n",
              "    .dataframe tbody tr th {\n",
              "        vertical-align: top;\n",
              "    }\n",
              "\n",
              "    .dataframe thead th {\n",
              "        text-align: right;\n",
              "    }\n",
              "</style>\n",
              "<table border=\"1\" class=\"dataframe\">\n",
              "  <thead>\n",
              "    <tr style=\"text-align: right;\">\n",
              "      <th></th>\n",
              "      <th>Company</th>\n",
              "      <th>Valuation</th>\n",
              "      <th>Date Joined</th>\n",
              "      <th>Country</th>\n",
              "      <th>City</th>\n",
              "      <th>Industry</th>\n",
              "      <th>Investors</th>\n",
              "      <th>Month</th>\n",
              "      <th>Year</th>\n",
              "    </tr>\n",
              "  </thead>\n",
              "  <tbody>\n",
              "    <tr>\n",
              "      <th>0</th>\n",
              "      <td>ByteDance</td>\n",
              "      <td>$140</td>\n",
              "      <td>2017-04-07</td>\n",
              "      <td>China</td>\n",
              "      <td>Beijing</td>\n",
              "      <td>Artificial intelligence</td>\n",
              "      <td>Sequoia Capital China, SIG Asia Investments, S...</td>\n",
              "      <td>4</td>\n",
              "      <td>2017</td>\n",
              "    </tr>\n",
              "    <tr>\n",
              "      <th>1</th>\n",
              "      <td>SpaceX</td>\n",
              "      <td>$127</td>\n",
              "      <td>2012-12-01</td>\n",
              "      <td>United States</td>\n",
              "      <td>Hawthorne</td>\n",
              "      <td>Other</td>\n",
              "      <td>Founders Fund, Draper Fisher Jurvetson, Rothen...</td>\n",
              "      <td>12</td>\n",
              "      <td>2012</td>\n",
              "    </tr>\n",
              "    <tr>\n",
              "      <th>2</th>\n",
              "      <td>SHEIN</td>\n",
              "      <td>$100</td>\n",
              "      <td>2018-07-03</td>\n",
              "      <td>China</td>\n",
              "      <td>Shenzhen</td>\n",
              "      <td>E-commerce &amp; direct-to-consumer</td>\n",
              "      <td>Tiger Global Management, Sequoia Capital China...</td>\n",
              "      <td>7</td>\n",
              "      <td>2018</td>\n",
              "    </tr>\n",
              "    <tr>\n",
              "      <th>3</th>\n",
              "      <td>Stripe</td>\n",
              "      <td>$95</td>\n",
              "      <td>2014-01-23</td>\n",
              "      <td>United States</td>\n",
              "      <td>San Francisco</td>\n",
              "      <td>Fintech</td>\n",
              "      <td>Khosla Ventures, LowercaseCapital, capitalG</td>\n",
              "      <td>1</td>\n",
              "      <td>2014</td>\n",
              "    </tr>\n",
              "    <tr>\n",
              "      <th>4</th>\n",
              "      <td>Canva</td>\n",
              "      <td>$40</td>\n",
              "      <td>2018-01-08</td>\n",
              "      <td>Australia</td>\n",
              "      <td>Surry Hills</td>\n",
              "      <td>Internet software &amp; services</td>\n",
              "      <td>Sequoia Capital China, Blackbird Ventures, Mat...</td>\n",
              "      <td>1</td>\n",
              "      <td>2018</td>\n",
              "    </tr>\n",
              "  </tbody>\n",
              "</table>\n",
              "</div>\n",
              "      <button class=\"colab-df-convert\" onclick=\"convertToInteractive('df-2342bb54-eac3-454e-a137-a5604bb85a11')\"\n",
              "              title=\"Convert this dataframe to an interactive table.\"\n",
              "              style=\"display:none;\">\n",
              "        \n",
              "  <svg xmlns=\"http://www.w3.org/2000/svg\" height=\"24px\"viewBox=\"0 0 24 24\"\n",
              "       width=\"24px\">\n",
              "    <path d=\"M0 0h24v24H0V0z\" fill=\"none\"/>\n",
              "    <path d=\"M18.56 5.44l.94 2.06.94-2.06 2.06-.94-2.06-.94-.94-2.06-.94 2.06-2.06.94zm-11 1L8.5 8.5l.94-2.06 2.06-.94-2.06-.94L8.5 2.5l-.94 2.06-2.06.94zm10 10l.94 2.06.94-2.06 2.06-.94-2.06-.94-.94-2.06-.94 2.06-2.06.94z\"/><path d=\"M17.41 7.96l-1.37-1.37c-.4-.4-.92-.59-1.43-.59-.52 0-1.04.2-1.43.59L10.3 9.45l-7.72 7.72c-.78.78-.78 2.05 0 2.83L4 21.41c.39.39.9.59 1.41.59.51 0 1.02-.2 1.41-.59l7.78-7.78 2.81-2.81c.8-.78.8-2.07 0-2.86zM5.41 20L4 18.59l7.72-7.72 1.47 1.35L5.41 20z\"/>\n",
              "  </svg>\n",
              "      </button>\n",
              "      \n",
              "  <style>\n",
              "    .colab-df-container {\n",
              "      display:flex;\n",
              "      flex-wrap:wrap;\n",
              "      gap: 12px;\n",
              "    }\n",
              "\n",
              "    .colab-df-convert {\n",
              "      background-color: #E8F0FE;\n",
              "      border: none;\n",
              "      border-radius: 50%;\n",
              "      cursor: pointer;\n",
              "      display: none;\n",
              "      fill: #1967D2;\n",
              "      height: 32px;\n",
              "      padding: 0 0 0 0;\n",
              "      width: 32px;\n",
              "    }\n",
              "\n",
              "    .colab-df-convert:hover {\n",
              "      background-color: #E2EBFA;\n",
              "      box-shadow: 0px 1px 2px rgba(60, 64, 67, 0.3), 0px 1px 3px 1px rgba(60, 64, 67, 0.15);\n",
              "      fill: #174EA6;\n",
              "    }\n",
              "\n",
              "    [theme=dark] .colab-df-convert {\n",
              "      background-color: #3B4455;\n",
              "      fill: #D2E3FC;\n",
              "    }\n",
              "\n",
              "    [theme=dark] .colab-df-convert:hover {\n",
              "      background-color: #434B5C;\n",
              "      box-shadow: 0px 1px 3px 1px rgba(0, 0, 0, 0.15);\n",
              "      filter: drop-shadow(0px 1px 2px rgba(0, 0, 0, 0.3));\n",
              "      fill: #FFFFFF;\n",
              "    }\n",
              "  </style>\n",
              "\n",
              "      <script>\n",
              "        const buttonEl =\n",
              "          document.querySelector('#df-2342bb54-eac3-454e-a137-a5604bb85a11 button.colab-df-convert');\n",
              "        buttonEl.style.display =\n",
              "          google.colab.kernel.accessAllowed ? 'block' : 'none';\n",
              "\n",
              "        async function convertToInteractive(key) {\n",
              "          const element = document.querySelector('#df-2342bb54-eac3-454e-a137-a5604bb85a11');\n",
              "          const dataTable =\n",
              "            await google.colab.kernel.invokeFunction('convertToInteractive',\n",
              "                                                     [key], {});\n",
              "          if (!dataTable) return;\n",
              "\n",
              "          const docLinkHtml = 'Like what you see? Visit the ' +\n",
              "            '<a target=\"_blank\" href=https://colab.research.google.com/notebooks/data_table.ipynb>data table notebook</a>'\n",
              "            + ' to learn more about interactive tables.';\n",
              "          element.innerHTML = '';\n",
              "          dataTable['output_type'] = 'display_data';\n",
              "          await google.colab.output.renderOutput(dataTable, element);\n",
              "          const docLink = document.createElement('div');\n",
              "          docLink.innerHTML = docLinkHtml;\n",
              "          element.appendChild(docLink);\n",
              "        }\n",
              "      </script>\n",
              "    </div>\n",
              "  </div>\n",
              "  "
            ]
          },
          "metadata": {},
          "execution_count": 39
        }
      ]
    },
    {
      "cell_type": "code",
      "source": [
        "Analysys = Data_Base.groupby( by=['Country', 'Year', 'Month', 'Company'] ).count()['Industry'].reset_index()\n",
        "Analysys\n",
        "# don't know how to fix industry column. I don't have an 'ID' column in the database so I can't show in place of industry"
      ],
      "metadata": {
        "colab": {
          "base_uri": "https://localhost:8080/",
          "height": 423
        },
        "id": "UlQp3TIiAhKf",
        "outputId": "d435b440-0a83-43eb-bf45-ebc182240f07"
      },
      "execution_count": 54,
      "outputs": [
        {
          "output_type": "execute_result",
          "data": {
            "text/plain": [
              "            Country  Year  Month            Company  Industry\n",
              "0         Argentina  2021      8               Uala         1\n",
              "1         Australia  2018      1              Canva         1\n",
              "2         Australia  2019      3          Airwallex         1\n",
              "3         Australia  2021      5      SafetyCulture         1\n",
              "4         Australia  2021      7        Culture Amp         1\n",
              "...             ...   ...    ...                ...       ...\n",
              "1181  United States  2022      8               Flow         1\n",
              "1182  United States  2022      8  Incredible Health         1\n",
              "1183  United States  2022      8  Orna Therapeutics         1\n",
              "1184        Vietnam  2021     10          Sky Mavis         1\n",
              "1185        Vietnam  2021     12               MoMo         1\n",
              "\n",
              "[1186 rows x 5 columns]"
            ],
            "text/html": [
              "\n",
              "  <div id=\"df-61b73a51-fd70-40d9-b8c2-e614dfda2542\">\n",
              "    <div class=\"colab-df-container\">\n",
              "      <div>\n",
              "<style scoped>\n",
              "    .dataframe tbody tr th:only-of-type {\n",
              "        vertical-align: middle;\n",
              "    }\n",
              "\n",
              "    .dataframe tbody tr th {\n",
              "        vertical-align: top;\n",
              "    }\n",
              "\n",
              "    .dataframe thead th {\n",
              "        text-align: right;\n",
              "    }\n",
              "</style>\n",
              "<table border=\"1\" class=\"dataframe\">\n",
              "  <thead>\n",
              "    <tr style=\"text-align: right;\">\n",
              "      <th></th>\n",
              "      <th>Country</th>\n",
              "      <th>Year</th>\n",
              "      <th>Month</th>\n",
              "      <th>Company</th>\n",
              "      <th>Industry</th>\n",
              "    </tr>\n",
              "  </thead>\n",
              "  <tbody>\n",
              "    <tr>\n",
              "      <th>0</th>\n",
              "      <td>Argentina</td>\n",
              "      <td>2021</td>\n",
              "      <td>8</td>\n",
              "      <td>Uala</td>\n",
              "      <td>1</td>\n",
              "    </tr>\n",
              "    <tr>\n",
              "      <th>1</th>\n",
              "      <td>Australia</td>\n",
              "      <td>2018</td>\n",
              "      <td>1</td>\n",
              "      <td>Canva</td>\n",
              "      <td>1</td>\n",
              "    </tr>\n",
              "    <tr>\n",
              "      <th>2</th>\n",
              "      <td>Australia</td>\n",
              "      <td>2019</td>\n",
              "      <td>3</td>\n",
              "      <td>Airwallex</td>\n",
              "      <td>1</td>\n",
              "    </tr>\n",
              "    <tr>\n",
              "      <th>3</th>\n",
              "      <td>Australia</td>\n",
              "      <td>2021</td>\n",
              "      <td>5</td>\n",
              "      <td>SafetyCulture</td>\n",
              "      <td>1</td>\n",
              "    </tr>\n",
              "    <tr>\n",
              "      <th>4</th>\n",
              "      <td>Australia</td>\n",
              "      <td>2021</td>\n",
              "      <td>7</td>\n",
              "      <td>Culture Amp</td>\n",
              "      <td>1</td>\n",
              "    </tr>\n",
              "    <tr>\n",
              "      <th>...</th>\n",
              "      <td>...</td>\n",
              "      <td>...</td>\n",
              "      <td>...</td>\n",
              "      <td>...</td>\n",
              "      <td>...</td>\n",
              "    </tr>\n",
              "    <tr>\n",
              "      <th>1181</th>\n",
              "      <td>United States</td>\n",
              "      <td>2022</td>\n",
              "      <td>8</td>\n",
              "      <td>Flow</td>\n",
              "      <td>1</td>\n",
              "    </tr>\n",
              "    <tr>\n",
              "      <th>1182</th>\n",
              "      <td>United States</td>\n",
              "      <td>2022</td>\n",
              "      <td>8</td>\n",
              "      <td>Incredible Health</td>\n",
              "      <td>1</td>\n",
              "    </tr>\n",
              "    <tr>\n",
              "      <th>1183</th>\n",
              "      <td>United States</td>\n",
              "      <td>2022</td>\n",
              "      <td>8</td>\n",
              "      <td>Orna Therapeutics</td>\n",
              "      <td>1</td>\n",
              "    </tr>\n",
              "    <tr>\n",
              "      <th>1184</th>\n",
              "      <td>Vietnam</td>\n",
              "      <td>2021</td>\n",
              "      <td>10</td>\n",
              "      <td>Sky Mavis</td>\n",
              "      <td>1</td>\n",
              "    </tr>\n",
              "    <tr>\n",
              "      <th>1185</th>\n",
              "      <td>Vietnam</td>\n",
              "      <td>2021</td>\n",
              "      <td>12</td>\n",
              "      <td>MoMo</td>\n",
              "      <td>1</td>\n",
              "    </tr>\n",
              "  </tbody>\n",
              "</table>\n",
              "<p>1186 rows × 5 columns</p>\n",
              "</div>\n",
              "      <button class=\"colab-df-convert\" onclick=\"convertToInteractive('df-61b73a51-fd70-40d9-b8c2-e614dfda2542')\"\n",
              "              title=\"Convert this dataframe to an interactive table.\"\n",
              "              style=\"display:none;\">\n",
              "        \n",
              "  <svg xmlns=\"http://www.w3.org/2000/svg\" height=\"24px\"viewBox=\"0 0 24 24\"\n",
              "       width=\"24px\">\n",
              "    <path d=\"M0 0h24v24H0V0z\" fill=\"none\"/>\n",
              "    <path d=\"M18.56 5.44l.94 2.06.94-2.06 2.06-.94-2.06-.94-.94-2.06-.94 2.06-2.06.94zm-11 1L8.5 8.5l.94-2.06 2.06-.94-2.06-.94L8.5 2.5l-.94 2.06-2.06.94zm10 10l.94 2.06.94-2.06 2.06-.94-2.06-.94-.94-2.06-.94 2.06-2.06.94z\"/><path d=\"M17.41 7.96l-1.37-1.37c-.4-.4-.92-.59-1.43-.59-.52 0-1.04.2-1.43.59L10.3 9.45l-7.72 7.72c-.78.78-.78 2.05 0 2.83L4 21.41c.39.39.9.59 1.41.59.51 0 1.02-.2 1.41-.59l7.78-7.78 2.81-2.81c.8-.78.8-2.07 0-2.86zM5.41 20L4 18.59l7.72-7.72 1.47 1.35L5.41 20z\"/>\n",
              "  </svg>\n",
              "      </button>\n",
              "      \n",
              "  <style>\n",
              "    .colab-df-container {\n",
              "      display:flex;\n",
              "      flex-wrap:wrap;\n",
              "      gap: 12px;\n",
              "    }\n",
              "\n",
              "    .colab-df-convert {\n",
              "      background-color: #E8F0FE;\n",
              "      border: none;\n",
              "      border-radius: 50%;\n",
              "      cursor: pointer;\n",
              "      display: none;\n",
              "      fill: #1967D2;\n",
              "      height: 32px;\n",
              "      padding: 0 0 0 0;\n",
              "      width: 32px;\n",
              "    }\n",
              "\n",
              "    .colab-df-convert:hover {\n",
              "      background-color: #E2EBFA;\n",
              "      box-shadow: 0px 1px 2px rgba(60, 64, 67, 0.3), 0px 1px 3px 1px rgba(60, 64, 67, 0.15);\n",
              "      fill: #174EA6;\n",
              "    }\n",
              "\n",
              "    [theme=dark] .colab-df-convert {\n",
              "      background-color: #3B4455;\n",
              "      fill: #D2E3FC;\n",
              "    }\n",
              "\n",
              "    [theme=dark] .colab-df-convert:hover {\n",
              "      background-color: #434B5C;\n",
              "      box-shadow: 0px 1px 3px 1px rgba(0, 0, 0, 0.15);\n",
              "      filter: drop-shadow(0px 1px 2px rgba(0, 0, 0, 0.3));\n",
              "      fill: #FFFFFF;\n",
              "    }\n",
              "  </style>\n",
              "\n",
              "      <script>\n",
              "        const buttonEl =\n",
              "          document.querySelector('#df-61b73a51-fd70-40d9-b8c2-e614dfda2542 button.colab-df-convert');\n",
              "        buttonEl.style.display =\n",
              "          google.colab.kernel.accessAllowed ? 'block' : 'none';\n",
              "\n",
              "        async function convertToInteractive(key) {\n",
              "          const element = document.querySelector('#df-61b73a51-fd70-40d9-b8c2-e614dfda2542');\n",
              "          const dataTable =\n",
              "            await google.colab.kernel.invokeFunction('convertToInteractive',\n",
              "                                                     [key], {});\n",
              "          if (!dataTable) return;\n",
              "\n",
              "          const docLinkHtml = 'Like what you see? Visit the ' +\n",
              "            '<a target=\"_blank\" href=https://colab.research.google.com/notebooks/data_table.ipynb>data table notebook</a>'\n",
              "            + ' to learn more about interactive tables.';\n",
              "          element.innerHTML = '';\n",
              "          dataTable['output_type'] = 'display_data';\n",
              "          await google.colab.output.renderOutput(dataTable, element);\n",
              "          const docLink = document.createElement('div');\n",
              "          docLink.innerHTML = docLinkHtml;\n",
              "          element.appendChild(docLink);\n",
              "        }\n",
              "      </script>\n",
              "    </div>\n",
              "  </div>\n",
              "  "
            ]
          },
          "metadata": {},
          "execution_count": 54
        }
      ]
    },
    {
      "cell_type": "code",
      "source": [
        "Analysys.loc[\n",
        "    Analysys['Country'] == 'Brazil']"
      ],
      "metadata": {
        "colab": {
          "base_uri": "https://localhost:8080/",
          "height": 582
        },
        "id": "VkSovNyoC7gb",
        "outputId": "b4a90921-0d57-443d-f22c-f8ef597497e5"
      },
      "execution_count": 70,
      "outputs": [
        {
          "output_type": "execute_result",
          "data": {
            "text/plain": [
              "   Country  Year  Month           Company  Industry\n",
              "16  Brazil  2018      7            Movile         1\n",
              "17  Brazil  2018     11             iFood         1\n",
              "18  Brazil  2019      6             Loggi         1\n",
              "19  Brazil  2019      9       QuintoAndar         1\n",
              "20  Brazil  2019     10             EBANX         1\n",
              "21  Brazil  2019     12  Wildlife Studios         1\n",
              "22  Brazil  2020      1              Loft         1\n",
              "23  Brazil  2020     12           C6 Bank         1\n",
              "24  Brazil  2020     12          Creditas         1\n",
              "25  Brazil  2021      1    MadeiraMadeira         1\n",
              "26  Brazil  2021      8         Nuvemshop         1\n",
              "27  Brazil  2021      8             Unico         1\n",
              "28  Brazil  2021      9         CloudWalk         1\n",
              "29  Brazil  2021     10            CargoX         1\n",
              "30  Brazil  2021     12             Olist         1\n",
              "31  Brazil  2022      2              Neon         1\n",
              "32  Brazil  2022      5              Dock         1"
            ],
            "text/html": [
              "\n",
              "  <div id=\"df-4f514686-8a88-4a09-bfe1-9694d4b0d1e7\">\n",
              "    <div class=\"colab-df-container\">\n",
              "      <div>\n",
              "<style scoped>\n",
              "    .dataframe tbody tr th:only-of-type {\n",
              "        vertical-align: middle;\n",
              "    }\n",
              "\n",
              "    .dataframe tbody tr th {\n",
              "        vertical-align: top;\n",
              "    }\n",
              "\n",
              "    .dataframe thead th {\n",
              "        text-align: right;\n",
              "    }\n",
              "</style>\n",
              "<table border=\"1\" class=\"dataframe\">\n",
              "  <thead>\n",
              "    <tr style=\"text-align: right;\">\n",
              "      <th></th>\n",
              "      <th>Country</th>\n",
              "      <th>Year</th>\n",
              "      <th>Month</th>\n",
              "      <th>Company</th>\n",
              "      <th>Industry</th>\n",
              "    </tr>\n",
              "  </thead>\n",
              "  <tbody>\n",
              "    <tr>\n",
              "      <th>16</th>\n",
              "      <td>Brazil</td>\n",
              "      <td>2018</td>\n",
              "      <td>7</td>\n",
              "      <td>Movile</td>\n",
              "      <td>1</td>\n",
              "    </tr>\n",
              "    <tr>\n",
              "      <th>17</th>\n",
              "      <td>Brazil</td>\n",
              "      <td>2018</td>\n",
              "      <td>11</td>\n",
              "      <td>iFood</td>\n",
              "      <td>1</td>\n",
              "    </tr>\n",
              "    <tr>\n",
              "      <th>18</th>\n",
              "      <td>Brazil</td>\n",
              "      <td>2019</td>\n",
              "      <td>6</td>\n",
              "      <td>Loggi</td>\n",
              "      <td>1</td>\n",
              "    </tr>\n",
              "    <tr>\n",
              "      <th>19</th>\n",
              "      <td>Brazil</td>\n",
              "      <td>2019</td>\n",
              "      <td>9</td>\n",
              "      <td>QuintoAndar</td>\n",
              "      <td>1</td>\n",
              "    </tr>\n",
              "    <tr>\n",
              "      <th>20</th>\n",
              "      <td>Brazil</td>\n",
              "      <td>2019</td>\n",
              "      <td>10</td>\n",
              "      <td>EBANX</td>\n",
              "      <td>1</td>\n",
              "    </tr>\n",
              "    <tr>\n",
              "      <th>21</th>\n",
              "      <td>Brazil</td>\n",
              "      <td>2019</td>\n",
              "      <td>12</td>\n",
              "      <td>Wildlife Studios</td>\n",
              "      <td>1</td>\n",
              "    </tr>\n",
              "    <tr>\n",
              "      <th>22</th>\n",
              "      <td>Brazil</td>\n",
              "      <td>2020</td>\n",
              "      <td>1</td>\n",
              "      <td>Loft</td>\n",
              "      <td>1</td>\n",
              "    </tr>\n",
              "    <tr>\n",
              "      <th>23</th>\n",
              "      <td>Brazil</td>\n",
              "      <td>2020</td>\n",
              "      <td>12</td>\n",
              "      <td>C6 Bank</td>\n",
              "      <td>1</td>\n",
              "    </tr>\n",
              "    <tr>\n",
              "      <th>24</th>\n",
              "      <td>Brazil</td>\n",
              "      <td>2020</td>\n",
              "      <td>12</td>\n",
              "      <td>Creditas</td>\n",
              "      <td>1</td>\n",
              "    </tr>\n",
              "    <tr>\n",
              "      <th>25</th>\n",
              "      <td>Brazil</td>\n",
              "      <td>2021</td>\n",
              "      <td>1</td>\n",
              "      <td>MadeiraMadeira</td>\n",
              "      <td>1</td>\n",
              "    </tr>\n",
              "    <tr>\n",
              "      <th>26</th>\n",
              "      <td>Brazil</td>\n",
              "      <td>2021</td>\n",
              "      <td>8</td>\n",
              "      <td>Nuvemshop</td>\n",
              "      <td>1</td>\n",
              "    </tr>\n",
              "    <tr>\n",
              "      <th>27</th>\n",
              "      <td>Brazil</td>\n",
              "      <td>2021</td>\n",
              "      <td>8</td>\n",
              "      <td>Unico</td>\n",
              "      <td>1</td>\n",
              "    </tr>\n",
              "    <tr>\n",
              "      <th>28</th>\n",
              "      <td>Brazil</td>\n",
              "      <td>2021</td>\n",
              "      <td>9</td>\n",
              "      <td>CloudWalk</td>\n",
              "      <td>1</td>\n",
              "    </tr>\n",
              "    <tr>\n",
              "      <th>29</th>\n",
              "      <td>Brazil</td>\n",
              "      <td>2021</td>\n",
              "      <td>10</td>\n",
              "      <td>CargoX</td>\n",
              "      <td>1</td>\n",
              "    </tr>\n",
              "    <tr>\n",
              "      <th>30</th>\n",
              "      <td>Brazil</td>\n",
              "      <td>2021</td>\n",
              "      <td>12</td>\n",
              "      <td>Olist</td>\n",
              "      <td>1</td>\n",
              "    </tr>\n",
              "    <tr>\n",
              "      <th>31</th>\n",
              "      <td>Brazil</td>\n",
              "      <td>2022</td>\n",
              "      <td>2</td>\n",
              "      <td>Neon</td>\n",
              "      <td>1</td>\n",
              "    </tr>\n",
              "    <tr>\n",
              "      <th>32</th>\n",
              "      <td>Brazil</td>\n",
              "      <td>2022</td>\n",
              "      <td>5</td>\n",
              "      <td>Dock</td>\n",
              "      <td>1</td>\n",
              "    </tr>\n",
              "  </tbody>\n",
              "</table>\n",
              "</div>\n",
              "      <button class=\"colab-df-convert\" onclick=\"convertToInteractive('df-4f514686-8a88-4a09-bfe1-9694d4b0d1e7')\"\n",
              "              title=\"Convert this dataframe to an interactive table.\"\n",
              "              style=\"display:none;\">\n",
              "        \n",
              "  <svg xmlns=\"http://www.w3.org/2000/svg\" height=\"24px\"viewBox=\"0 0 24 24\"\n",
              "       width=\"24px\">\n",
              "    <path d=\"M0 0h24v24H0V0z\" fill=\"none\"/>\n",
              "    <path d=\"M18.56 5.44l.94 2.06.94-2.06 2.06-.94-2.06-.94-.94-2.06-.94 2.06-2.06.94zm-11 1L8.5 8.5l.94-2.06 2.06-.94-2.06-.94L8.5 2.5l-.94 2.06-2.06.94zm10 10l.94 2.06.94-2.06 2.06-.94-2.06-.94-.94-2.06-.94 2.06-2.06.94z\"/><path d=\"M17.41 7.96l-1.37-1.37c-.4-.4-.92-.59-1.43-.59-.52 0-1.04.2-1.43.59L10.3 9.45l-7.72 7.72c-.78.78-.78 2.05 0 2.83L4 21.41c.39.39.9.59 1.41.59.51 0 1.02-.2 1.41-.59l7.78-7.78 2.81-2.81c.8-.78.8-2.07 0-2.86zM5.41 20L4 18.59l7.72-7.72 1.47 1.35L5.41 20z\"/>\n",
              "  </svg>\n",
              "      </button>\n",
              "      \n",
              "  <style>\n",
              "    .colab-df-container {\n",
              "      display:flex;\n",
              "      flex-wrap:wrap;\n",
              "      gap: 12px;\n",
              "    }\n",
              "\n",
              "    .colab-df-convert {\n",
              "      background-color: #E8F0FE;\n",
              "      border: none;\n",
              "      border-radius: 50%;\n",
              "      cursor: pointer;\n",
              "      display: none;\n",
              "      fill: #1967D2;\n",
              "      height: 32px;\n",
              "      padding: 0 0 0 0;\n",
              "      width: 32px;\n",
              "    }\n",
              "\n",
              "    .colab-df-convert:hover {\n",
              "      background-color: #E2EBFA;\n",
              "      box-shadow: 0px 1px 2px rgba(60, 64, 67, 0.3), 0px 1px 3px 1px rgba(60, 64, 67, 0.15);\n",
              "      fill: #174EA6;\n",
              "    }\n",
              "\n",
              "    [theme=dark] .colab-df-convert {\n",
              "      background-color: #3B4455;\n",
              "      fill: #D2E3FC;\n",
              "    }\n",
              "\n",
              "    [theme=dark] .colab-df-convert:hover {\n",
              "      background-color: #434B5C;\n",
              "      box-shadow: 0px 1px 3px 1px rgba(0, 0, 0, 0.15);\n",
              "      filter: drop-shadow(0px 1px 2px rgba(0, 0, 0, 0.3));\n",
              "      fill: #FFFFFF;\n",
              "    }\n",
              "  </style>\n",
              "\n",
              "      <script>\n",
              "        const buttonEl =\n",
              "          document.querySelector('#df-4f514686-8a88-4a09-bfe1-9694d4b0d1e7 button.colab-df-convert');\n",
              "        buttonEl.style.display =\n",
              "          google.colab.kernel.accessAllowed ? 'block' : 'none';\n",
              "\n",
              "        async function convertToInteractive(key) {\n",
              "          const element = document.querySelector('#df-4f514686-8a88-4a09-bfe1-9694d4b0d1e7');\n",
              "          const dataTable =\n",
              "            await google.colab.kernel.invokeFunction('convertToInteractive',\n",
              "                                                     [key], {});\n",
              "          if (!dataTable) return;\n",
              "\n",
              "          const docLinkHtml = 'Like what you see? Visit the ' +\n",
              "            '<a target=\"_blank\" href=https://colab.research.google.com/notebooks/data_table.ipynb>data table notebook</a>'\n",
              "            + ' to learn more about interactive tables.';\n",
              "          element.innerHTML = '';\n",
              "          dataTable['output_type'] = 'display_data';\n",
              "          await google.colab.output.renderOutput(dataTable, element);\n",
              "          const docLink = document.createElement('div');\n",
              "          docLink.innerHTML = docLinkHtml;\n",
              "          element.appendChild(docLink);\n",
              "        }\n",
              "      </script>\n",
              "    </div>\n",
              "  </div>\n",
              "  "
            ]
          },
          "metadata": {},
          "execution_count": 70
        }
      ]
    }
  ]
}